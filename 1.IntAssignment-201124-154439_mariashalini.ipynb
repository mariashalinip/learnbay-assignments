{
 "cells": [
  {
   "cell_type": "code",
   "execution_count": 7,
   "metadata": {},
   "outputs": [
    {
     "name": "stdout",
     "output_type": "stream",
     "text": [
      "10 <class 'int'>\n",
      "10\n"
     ]
    },
    {
     "data": {
      "text/plain": [
       "140724712650816"
      ]
     },
     "execution_count": 7,
     "metadata": {},
     "output_type": "execute_result"
    }
   ],
   "source": [
    "# Q. ​Declare an int value and store it in a variable. Check the type and print the id of the same.\n",
    "\n",
    "a=10\n",
    "print(a,type(a)) #to print the type of variable\n",
    "print(int(10))\n",
    "id(a) #to check the id of variable"
   ]
  },
  {
   "cell_type": "code",
   "execution_count": 20,
   "metadata": {},
   "outputs": [
    {
     "name": "stdout",
     "output_type": "stream",
     "text": [
      "c 140724712652096\n",
      "d 140724712652096\n"
     ]
    }
   ],
   "source": [
    "# 2.Take one int value between 0 - 256. Assign it to two different variables. Check the id of both the variables. \n",
    "# It should come the same. Check why?\n",
    "\n",
    "c=50\n",
    "d=50\n",
    "print(\"c\",id(c))\n",
    "print(\"d\",id(d))\n",
    "\n",
    "\n",
    "# If value is with in range of 0 to 256 then id will be same."
   ]
  },
  {
   "cell_type": "code",
   "execution_count": 21,
   "metadata": {},
   "outputs": [
    {
     "name": "stdout",
     "output_type": "stream",
     "text": [
      "140724712650432 1826713512144\n"
     ]
    }
   ],
   "source": [
    "# 3. Take one int value either less than -5 or greater than 256. Assign it to two different variables.\n",
    "# Check the id of both the variables. It should come different.Check why? \n",
    "\n",
    "a=-2\n",
    "b=257\n",
    "print(id(a), id(b))\n",
    "\n",
    "# If value is beyond 256 that means not in range  of 0 to 256 then id will differ."
   ]
  },
  {
   "cell_type": "code",
   "execution_count": 4,
   "metadata": {},
   "outputs": [
    {
     "name": "stdout",
     "output_type": "stream",
     "text": [
      "-1\n",
      "30\n",
      "0.8333333333333334\n",
      "5\n",
      "0\n",
      "15625\n"
     ]
    }
   ],
   "source": [
    "#4. Arithmetic Operations on integers Take two different integer values. Store them in two different variables. \n",
    "\n",
    "# Do below operations on them:-  \n",
    "# Find sum of both numbers   \n",
    "a=5\n",
    "b=6\n",
    "print(a-b)\n",
    "print(a*b)\n",
    "print(a/b)\n",
    "print(a%b)\n",
    "print(a//b)\n",
    "print(a**b) \n",
    "\n",
    "\n",
    "# Find difference between them  \n",
    "# Find the product of both numbers.  \n",
    "# Find value after dividing first num with second number   \n",
    "# Find the remainder after dividing first number with second number \n",
    "# Find the quotient after dividing first number with second number  \n",
    "# Find the result of the first num to the power of the second number. "
   ]
  },
  {
   "cell_type": "code",
   "execution_count": 29,
   "metadata": {},
   "outputs": [
    {
     "name": "stdout",
     "output_type": "stream",
     "text": [
      "False\n",
      "True\n",
      "False\n",
      "True\n"
     ]
    }
   ],
   "source": [
    "#5 Comparison Operators on integers Take two different integer values. Store them in two different variables. \n",
    "# Do below operations on them:-   \n",
    "# Compare se two numbers with below operator:-    \n",
    "#     Greater than, '>'      \n",
    "#     Smaller than, '<'      \n",
    "#     Greater than or equal to, '>='      \n",
    "#     Less than or equal to, '<=' \n",
    "#     Observe their output(return type should be boolean) \n",
    "\n",
    "a=10\n",
    "b=20\n",
    "print(a>b)\n",
    "print(a<b)\n",
    "print(a>=b)\n",
    "print(a<=b)"
   ]
  },
  {
   "cell_type": "code",
   "execution_count": 31,
   "metadata": {},
   "outputs": [
    {
     "name": "stdout",
     "output_type": "stream",
     "text": [
      "False\n",
      "True\n"
     ]
    }
   ],
   "source": [
    "# 6.Equality Operator Take two different integer values. Store them in two different variables. \n",
    "# Equate them using equality operators (==, !=) \n",
    "# Observe the output(return type should be boolean) \n",
    "\n",
    "x=5\n",
    "y=10\n",
    "print(x==y)\n",
    "print(x!=y)\n"
   ]
  },
  {
   "cell_type": "code",
   "execution_count": 13,
   "metadata": {},
   "outputs": [
    {
     "name": "stdout",
     "output_type": "stream",
     "text": [
      "20\n",
      "0\n",
      "0\n",
      "0\n",
      "10\n",
      "20\n",
      "20\n",
      "0\n",
      "False\n",
      "True\n"
     ]
    }
   ],
   "source": [
    "# 7. Logical operators Observe the output of below code \n",
    "# Cross check the output manually \n",
    "#  print​(​10​ ​and​ ​20​) #----------------------------------------->Output is 20\n",
    "#  print​(​0​ ​and​ ​20​) #----------------------------------------->Output is 0 \n",
    "# print​(​20​ ​and​ ​0​) #----------------------------------------->Output is 0 \n",
    "# print​(​0​ ​and​ ​0​) #----------------------------------------->Output is 0 \n",
    "#  print​(​10​ ​or​ ​20​) #----------------------------------------->Output is 10 \n",
    "# print​(​0​ ​or​ ​20​) #----------------------------------------->Output is 20\n",
    "#  print​(​20​ ​or​ ​0​) #----------------------------------------->Output is 20 \n",
    "# print​(​0​ ​or​ ​0​) #---------------------------------------->Output is 0 \n",
    "#  print​(​not​ ​10​) #----------------------------------------->Output is False \n",
    "# print​(​not​ ​0​) #----------------------------------------->Output is True b\n",
    "\n",
    "\n",
    "print(10 and 20) \n",
    "print(0 and 20) #if one operand is 0 then o/p is 0\n",
    "print(20 and 0)\n",
    "print(0 and 0)\n",
    "print(10 or 20) #if first operand \"or\"  expression is True it returns the first operand otherwise it returns second\n",
    "print(0 or 20) #if first operand \"or\"  expression is True it returns the first operand otherwise it returns second\n",
    "print(20 or 0)\n",
    "print(0 or 0)\n",
    "print(not 20)\n",
    "print(not 0)"
   ]
  },
  {
   "cell_type": "code",
   "execution_count": 64,
   "metadata": {},
   "outputs": [
    {
     "name": "stdout",
     "output_type": "stream",
     "text": [
      "a 0b1010\n",
      "b 0b10100\n",
      "0\n",
      "30\n",
      "30\n",
      "-11\n",
      "x 0b1010\n",
      "y 0b10\n",
      "40\n",
      "2\n",
      "2\n",
      "40\n",
      "12\n"
     ]
    }
   ],
   "source": [
    "# 8. Bitwise Operators Do below operations on the values provided below:-  \n",
    "#  Bitwise and(&) -----------------------------------------> 10, 20 -------> Output is 0  \n",
    "#  Bitwise or(|)  -----------------------------------------> 10, 20 -------> Output is 30 \n",
    "#  Bitwise(^)     -----------------------------------------> 10, 20 -------> Output is 30  \n",
    "#  Bitwise negation(~) ------------------------------------> 10 -------> Output is -11   \n",
    "#  Bitwise left shift  ------------------------------------> 10,2 -------> Output is 40   \n",
    "#  Bitwise right shift ------------------------------------> 10,2 -------> Output is 2 \n",
    "#  Cross check the output manually \n",
    " \n",
    "# print(10 & 20)  #if a & b find the binary value of 10 and 20\n",
    "\n",
    "\n",
    "a = print(\"a\",bin(10))\n",
    "b = print(\"b\",bin(20))\n",
    "\n",
    "\n",
    "b=0b10100\n",
    "a=0b1010\n",
    "\n",
    "print(a & b)\n",
    "print(a | b)\n",
    "print(a ^ b)\n",
    "print(~a)\n",
    "\n",
    "x=10\n",
    "y=2\n",
    "\n",
    "c = print(\"x\", bin(x))\n",
    "d = print(\"y\", bin(y))\n",
    "\n",
    "print(x<<y)\n",
    "\n",
    "\n",
    "print(x>>y)\n",
    "print(int(0b10))\n",
    "\n",
    "print(10<<2)\n",
    "\n",
    "# print(10|20) \n",
    "# print(10^20)\n",
    "# print(~10)\n",
    "# print(10<<2)\n",
    "# print(10>>2)"
   ]
  },
  {
   "cell_type": "code",
   "execution_count": 33,
   "metadata": {},
   "outputs": [
    {
     "name": "stdout",
     "output_type": "stream",
     "text": [
      "True\n",
      "False\n",
      "140717784578112\n",
      "140717784578112\n",
      "False\n",
      "True\n",
      "2225843940592\n",
      "2225843939472\n"
     ]
    }
   ],
   "source": [
    "# 9 What is the output of expression inside print statement.\n",
    "#  Cross check before running the program. \n",
    "# a = 10 b = 10 print(a is b) #True or False? \n",
    "#print(a is not b)      #True or False? \n",
    "# a = 1000 b = 1000 print(a is b)  #True or False? \n",
    "#print(a is not b)      #True or False? \n",
    "\n",
    "a = 10 \n",
    "b = 10\n",
    "print(a is b)\n",
    "print(a is not b) \n",
    "\n",
    "print(id(a))\n",
    "print(id(b))\n",
    "a = 1000 \n",
    "b = 1000 \n",
    "print(a is b) \n",
    "print(a is not b) \n",
    "print(id(a))\n",
    "print(id(b))\n",
    "\n",
    "\n",
    "\n"
   ]
  },
  {
   "cell_type": "code",
   "execution_count": 56,
   "metadata": {},
   "outputs": [
    {
     "name": "stdout",
     "output_type": "stream",
     "text": [
      "20\n"
     ]
    }
   ],
   "source": [
    "#  10 What is the output of expression inside print statement. Cross check before running the program. \n",
    "#     print​(​10​+(​10​*​32​)//​2​**​5​&​20​+(~(​-10​))<<​2​)\n",
    "\n",
    "\n",
    "print(10+(10*32)//2**5&20+(~(-10))<<2)\n"
   ]
  },
  {
   "cell_type": "code",
   "execution_count": 72,
   "metadata": {},
   "outputs": [
    {
     "name": "stdout",
     "output_type": "stream",
     "text": [
      "True\n",
      "True\n",
      "True\n",
      "True\n",
      "True\n",
      "True\n"
     ]
    }
   ],
   "source": [
    "# 11 Q.Membership operation in, not in are two membership operators and it returns boolean value \n",
    "print('2' in 'Python2.7.8')\n",
    "print(10 in [10,10.20,10+20j,'Python'])\n",
    "print(10 in (10,10.20,10+20j,'Python'))\n",
    "print(2 in {1,2,3}) \n",
    "print(3 in {1:100, 2:200, 3:300})\n",
    "print(10 in range(20)) "
   ]
  },
  {
   "cell_type": "code",
   "execution_count": 18,
   "metadata": {},
   "outputs": [
    {
     "name": "stdout",
     "output_type": "stream",
     "text": [
      "0b1100100\n",
      "0o310\n",
      "0x12c\n",
      "0b1100100\n",
      "0o310\n",
      "0x12c\n",
      "0b10011010010100\n",
      "0o23224\n",
      "0x2694\n"
     ]
    }
   ],
   "source": [
    "# 12 An integer can be represented in binary, octal or hexadecimal form. Declare one binary, one octal \n",
    "# and one hexadecimal value and store them in three different variables. Convert 9876 to its binary, octal\n",
    "# and hexadecimal equivalent and print their corresponding value. \n",
    " \n",
    "\n",
    "\n",
    "num1 = 100\n",
    "num2 = 200\n",
    "num3 = 300\n",
    "\n",
    "print(bin(num1))\n",
    "print(oct(num2))\n",
    "print(hex(num3))\n",
    "\n",
    "num_bin = bin(num1)\n",
    "num_oct = oct(num2)\n",
    "num_hex = hex(num3)\n",
    "\n",
    "print(num_bin)\n",
    "print(num_oct)\n",
    "print(num_hex)\n",
    "\n",
    "\n",
    "print(bin(9876))\n",
    "print(oct(9876))\n",
    "print(hex(9876))\n"
   ]
  },
  {
   "cell_type": "code",
   "execution_count": 19,
   "metadata": {},
   "outputs": [
    {
     "name": "stdout",
     "output_type": "stream",
     "text": [
      "80\n",
      "3870\n",
      "64222\n",
      "0b1010000\n",
      "0o7436\n",
      "0xfade\n",
      "0b1010000\n",
      "0b1111101011011110\n",
      "0o175336\n",
      "0o7436\n",
      "0x50\n",
      "0xfade\n"
     ]
    }
   ],
   "source": [
    "# 13  What will be the output of following:-\n",
    "\n",
    "a = 0b1010000 \n",
    "print(a) \n",
    "\n",
    "b = 0o7436 \n",
    "print(b) \n",
    "\n",
    "c = 0xfade \n",
    "print(c) \n",
    "\n",
    "print(bin(80)) \n",
    "print(oct(3870)) \n",
    "print(hex(64222)) \n",
    "print(bin(0b1010000)) \n",
    "print(bin(0xfade)) \n",
    "print(oct(0xfade)) \n",
    "print(oct(0o7436)) \n",
    "print(hex(0b1010000)) \n",
    "print(hex(0xfade)) \n",
    " "
   ]
  },
  {
   "cell_type": "code",
   "execution_count": null,
   "metadata": {},
   "outputs": [],
   "source": []
  }
 ],
 "metadata": {
  "kernelspec": {
   "display_name": "Python 3",
   "language": "python",
   "name": "python3"
  },
  "language_info": {
   "codemirror_mode": {
    "name": "ipython",
    "version": 3
   },
   "file_extension": ".py",
   "mimetype": "text/x-python",
   "name": "python",
   "nbconvert_exporter": "python",
   "pygments_lexer": "ipython3",
   "version": "3.8.3"
  }
 },
 "nbformat": 4,
 "nbformat_minor": 4
}
