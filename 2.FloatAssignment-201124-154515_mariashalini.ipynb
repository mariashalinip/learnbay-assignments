{
 "cells": [
  {
   "cell_type": "code",
   "execution_count": 2,
   "metadata": {},
   "outputs": [
    {
     "name": "stdout",
     "output_type": "stream",
     "text": [
      "10.2 <class 'float'> 2926013653680\n"
     ]
    }
   ],
   "source": [
    "# Q. ​Declare an float value and store it in a variable. Check the type and print the id of the same.\n",
    "\n",
    "a=10.20\n",
    "print(a, type(a), id(a))"
   ]
  },
  {
   "cell_type": "code",
   "execution_count": 4,
   "metadata": {},
   "outputs": [
    {
     "name": "stdout",
     "output_type": "stream",
     "text": [
      "10.1\n",
      "1.0999999999999996\n",
      "25.2\n",
      "1.2444444444444445\n",
      "1.0999999999999996\n",
      "1.0\n",
      "2327.266518502961\n"
     ]
    }
   ],
   "source": [
    "#4. Arithmetic Operations on float Take two different float values. Store them in two different variables. \n",
    "\n",
    "# Do below operations on them:-  \n",
    "# Find sum of both numbers   \n",
    "# Find difference between them  \n",
    "# Find the product of both numbers.  \n",
    "# Find value after dividing first num with second number   \n",
    "# Find the remainder after dividing first number with second number \n",
    "# Find the quotient after dividing first number with second number  \n",
    "# Find the result of the first num to the power of the second number. \n",
    "\n",
    "\n",
    "x=5.6\n",
    "y=4.5\n",
    "print(x + y)\n",
    "\n",
    "print(x - y)\n",
    "\n",
    "print(x * y)\n",
    "\n",
    "print(x / y)\n",
    "\n",
    "print(x % y)\n",
    "\n",
    "print(x // y)\n",
    "\n",
    "print(x ** y)\n",
    "\n",
    "\n"
   ]
  },
  {
   "cell_type": "code",
   "execution_count": 6,
   "metadata": {},
   "outputs": [
    {
     "name": "stdout",
     "output_type": "stream",
     "text": [
      "False\n",
      "True\n",
      "False\n",
      "True\n"
     ]
    }
   ],
   "source": [
    "#5 Comparison Operators on float Take two different float values. Store them in two different variables. \n",
    "# Do below operations on them:-   \n",
    "# Compare se two numbers with below operator:-    \n",
    "#     Greater than, '>'      \n",
    "#     Smaller than, '<'      \n",
    "#     Greater than or equal to, '>='      \n",
    "#     Less than or equal to, '<=' \n",
    "#     Observe their output(return type should be boolean) \n",
    "\n",
    "x= 50.55\n",
    "y= 70.55\n",
    "\n",
    "print(x > y)\n",
    "print(x < y)\n",
    "print(x >= y)\n",
    "print(x <= y)"
   ]
  },
  {
   "cell_type": "code",
   "execution_count": 7,
   "metadata": {},
   "outputs": [
    {
     "name": "stdout",
     "output_type": "stream",
     "text": [
      "False\n",
      "True\n"
     ]
    }
   ],
   "source": [
    "# 6.Equality Operator Take two different float values. Store them in two different variables. \n",
    "# Equate them using equality operators (==, !=) \n",
    "# Observe the output(return type should be boolean) \n",
    "\n",
    "x= 30.10\n",
    "y= 80.20\n",
    "\n",
    "\n",
    "print(x == y)\n",
    "print(x != y)\n"
   ]
  },
  {
   "cell_type": "code",
   "execution_count": 8,
   "metadata": {},
   "outputs": [
    {
     "name": "stdout",
     "output_type": "stream",
     "text": [
      "20.3\n",
      "0.0\n",
      "0.0\n",
      "0.0\n",
      "10.2\n",
      "20.3\n",
      "20.3\n",
      "0.0\n",
      "False\n",
      "True\n"
     ]
    }
   ],
   "source": [
    "# Logical operators Observe the output of below code Cross check the output manually \n",
    "#  print​(​10.20​ ​and​ ​20.30​)       #both are true and second value taken >Output is 20.3 \n",
    "#  print​(​0.0​ ​and​ ​20.30​)         #First is false so first value taken->Output is 0.0 \n",
    " \n",
    "# print​(​20.30​ ​and​ ​0.0​)         #Goes to till second and second value is false so second is taken>Output is 0.0 \n",
    "#  print​(​0.0​ ​and​ ​0.0​)           #First is false so first value is taken->Output is 0.0 \n",
    "#  print​(​10.20​ ​or​ ​20.30​)        #First is True so first value is taken>Output is 10.2 \n",
    "#  print​(​0.0​ ​or​ ​20.30​)          #Goes to till second and second is true second value is taken->Output is 20.3 \n",
    "#  print​(​20.30​ ​or​ ​0.0​)          #First is True so first value is taken->Output is 20.3 \n",
    "#  print​(​0.0​ ​or​ ​0.0​)            #Goes to till second and second is also false and second value is taken>Output is 0.0 \n",
    "#  print​(​not​ ​10.20​)             #-Not of true is false->Output is False \n",
    "#  print​(​not​ ​0.0​)               #Not of false is True>Output is True \n",
    "\n",
    "\n",
    "print(10.20 and 20.30) \n",
    "print(0.0 and 20.30)\n",
    "print(20.30 and 0.0)\n",
    "print(0.0 and 0.0)\n",
    "print(10.20 or 20.30) \n",
    "print(0.0 or 20.30) \n",
    "print(20.30 or 0.0) \n",
    "print(0.0 or 0.0)\n",
    "print(not 10.20)\n",
    "print(not 0.0) \n"
   ]
  },
  {
   "cell_type": "code",
   "execution_count": 10,
   "metadata": {},
   "outputs": [
    {
     "name": "stdout",
     "output_type": "stream",
     "text": [
      "False\n",
      "2926013653776\n",
      "2926013653328\n",
      "True\n"
     ]
    }
   ],
   "source": [
    "# What is the output of expression inside print statement. Cross check before running the program.\n",
    "#  a = ​10.20 b - ​10.20 print​(a ​is​ b)          #True or False? True 10.20<256\n",
    "#  print​(a ​is​ ​not​ b)      #True or False? False \n",
    "#  Why the Id of float values are different when the same value is assigned to two different variables \n",
    "#  ex: a = 10.5 b=10.5. but id will be same if I assign the variable having float i.e. a=c then both a and c's Id are same\n",
    "\n",
    "a = 10.20 \n",
    "b = 10.20 \n",
    "print(a is b)          #True or False? True 10.20<256\n",
    "\n",
    "print(id(a))\n",
    "print(id(b))\n",
    "\n",
    "print(a is not b)      #True or False? False \n",
    "\n",
    "# the id value is different because the values after decimal are stored in different memory/allocated to different memory"
   ]
  },
  {
   "cell_type": "code",
   "execution_count": null,
   "metadata": {},
   "outputs": [],
   "source": [
    "# Bitwise operation is not applicable between instances of float. \n",
    "# Why the Id of float values are different when the same value is assigned to two different variables \n",
    "# ex: a = 10.5 b=10.5. but id will be same if I assign the variable having float i.e. a=c then both a and c's Id are same Object reusability concept is not applicable on float values. \n",
    " \n",
    " "
   ]
  },
  {
   "cell_type": "code",
   "execution_count": 11,
   "metadata": {},
   "outputs": [
    {
     "name": "stdout",
     "output_type": "stream",
     "text": [
      "True\n",
      "True\n",
      "True\n",
      "True\n",
      "True\n",
      "True\n"
     ]
    }
   ],
   "source": [
    "#  Membership operation in, not in are two membership operators and it returns boolean value \n",
    "print('2.7' in 'Python2.7.8')              #True\n",
    "print(10.20 in [10,10.20,10+20j,'Python']) #True \n",
    "print(10.20 in (10,10.20,10+20j,'Python')) # True\n",
    "print(20.30 in {1,20.30,30+40j})           # True \n",
    "print(2.3 in {1:100, 2.3:200, 30+40j:300}) # True \n",
    "print(10 in range(20))                     # True \n",
    " \n",
    "    \n",
    "    \n",
    "  \n",
    "    \n",
    " "
   ]
  },
  {
   "cell_type": "code",
   "execution_count": null,
   "metadata": {},
   "outputs": [],
   "source": []
  }
 ],
 "metadata": {
  "kernelspec": {
   "display_name": "Python 3",
   "language": "python",
   "name": "python3"
  },
  "language_info": {
   "codemirror_mode": {
    "name": "ipython",
    "version": 3
   },
   "file_extension": ".py",
   "mimetype": "text/x-python",
   "name": "python",
   "nbconvert_exporter": "python",
   "pygments_lexer": "ipython3",
   "version": "3.8.3"
  }
 },
 "nbformat": 4,
 "nbformat_minor": 4
}
