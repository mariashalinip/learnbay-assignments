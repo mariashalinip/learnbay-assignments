{
 "cells": [
  {
   "cell_type": "code",
   "execution_count": 8,
   "metadata": {},
   "outputs": [
    {
     "name": "stdout",
     "output_type": "stream",
     "text": [
      "(12+10j) <class 'complex'> 2372037911888\n"
     ]
    }
   ],
   "source": [
    "# Q. ​Declare a complex number and store it in a variable. Check the type and print the id of the same. \n",
    "\n",
    "a= 12+10j\n",
    "print(a, type(a), id(a))"
   ]
  },
  {
   "cell_type": "code",
   "execution_count": 7,
   "metadata": {},
   "outputs": [
    {
     "name": "stdout",
     "output_type": "stream",
     "text": [
      "(16+20j)\n",
      "(4+0j)\n",
      "(-40+160j)\n",
      "(1.1764705882352942-0.29411764705882354j)\n",
      "(3036.1292039331765-653.3222937574661j)\n"
     ]
    }
   ],
   "source": [
    "# Arithmetic Operations on complex number \n",
    "# Take two different complex numbers. \n",
    "# Store them in two different variables.\n",
    "#  Do below operations on them:-  \n",
    "#  ​Find sum of both numbers    \n",
    "#  ​Find difference between them  \n",
    "#  ​Find the product of both numbers.  \n",
    "#  ​Find value after dividing first num with second number   \n",
    "#  ​Find the result of the first num to the power of the second number. \n",
    " \n",
    "a= 10+10j\n",
    "b= 6+10j \n",
    "print(a + b)\n",
    "print(a - b)\n",
    "print(a * b)\n",
    "print(a / b)\n",
    "print(a ** b)"
   ]
  },
  {
   "cell_type": "code",
   "execution_count": null,
   "metadata": {},
   "outputs": [],
   "source": [
    "#  Comparison Operation not applicable between instance of complex values. \n",
    "# Object reusability concept is not applicable on complex number "
   ]
  },
  {
   "cell_type": "code",
   "execution_count": 6,
   "metadata": {},
   "outputs": [
    {
     "name": "stdout",
     "output_type": "stream",
     "text": [
      "False\n",
      "True\n"
     ]
    }
   ],
   "source": [
    "# Equality Operator Take two different complex numbers. \n",
    "# Store them in two different variables. \n",
    "# Equate them using equality operators (==, !=) \n",
    "# Observe the output(return type should be boolean) \n",
    "\n",
    "a= 5+10j\n",
    "b= 6+10j\n",
    "print(a == b)\n",
    "print(a != b)"
   ]
  },
  {
   "cell_type": "code",
   "execution_count": 10,
   "metadata": {},
   "outputs": [
    {
     "name": "stdout",
     "output_type": "stream",
     "text": [
      "(20+30j)\n",
      "0j\n",
      "0j\n",
      "0j\n",
      "(10+20j)\n",
      "(20+30j)\n",
      "(20+30j)\n",
      "0j\n",
      "False\n",
      "True\n"
     ]
    }
   ],
   "source": [
    "# Logical operators Observe the output of below code Cross check the output manually \n",
    "print(10+20j and 20+30j)    #20+30j #----------------------------------------->Output is 20+30j \n",
    "print(0+0j and 20+30j)      #0+0j #----------------------------------------->Output is 0j \n",
    "print(20+30j and 0+0j)      #0+0j #----------------------------------------->Output is 0j \n",
    "print(0+0j and 0+0j)        #0+0j #----------------------------------------->Output is 0j \n",
    "print(10+20j or 20+30j)     #10+20j #----------------------------------------->Output is 10+20j \n",
    " \n",
    "print(0+0j or 20+30j)       #20+30j #----------------------------------------->Output is 20+30j \n",
    "print(20+30j or 0+0j)       #20+30j #----------------------------------------->Output is 20+30j \n",
    "print(0+0j or 0+0j)         #0+0j #----------------------------------------->Output is 0j \n",
    "print(not 10+20j)           #False #----------------------------------------->Output is False \n",
    "print(not 0+0j)             #True #----------------------------------------->Output is True "
   ]
  },
  {
   "cell_type": "code",
   "execution_count": 5,
   "metadata": {},
   "outputs": [
    {
     "name": "stdout",
     "output_type": "stream",
     "text": [
      "False\n",
      "True\n",
      "2372037911184\n",
      "2372037911600\n"
     ]
    }
   ],
   "source": [
    "#  What is the output of the expression inside the print statement.\n",
    "#  Cross check before running the program.\n",
    "a = 10+20j \n",
    "b = 10+20j \n",
    "print(a is b)       #False   #True or False? \n",
    "print(a is not b)   #True   #True or False? \n",
    " \n",
    "a = -10\n",
    "b = -10\n",
    "    \n",
    "print(id(a))\n",
    "print(id(b))"
   ]
  },
  {
   "cell_type": "code",
   "execution_count": 1,
   "metadata": {},
   "outputs": [
    {
     "name": "stdout",
     "output_type": "stream",
     "text": [
      "True\n",
      "True\n",
      "True\n",
      "True\n",
      "True\n",
      "True\n"
     ]
    }
   ],
   "source": [
    "# Membership operation in, not in are two membership operators and it returns boolean value \n",
    "print('2.7' in 'Python2.7.8')                      #True \n",
    "print(10+20j in [10,10.20,10+20j,'Python'])        #True \n",
    "print(10+20j in (10,10.20,10+20j,'Python'))        #True \n",
    "print(30+40j in {1,20.30,30+40j})                  #True \n",
    "print(30+40j in {1:100, 2.3:200, 30+40j:300})      #True \n",
    "print(10 in range(20))                             #True \n",
    " \n",
    " "
   ]
  },
  {
   "cell_type": "code",
   "execution_count": null,
   "metadata": {},
   "outputs": [],
   "source": []
  }
 ],
 "metadata": {
  "kernelspec": {
   "display_name": "Python 3",
   "language": "python",
   "name": "python3"
  },
  "language_info": {
   "codemirror_mode": {
    "name": "ipython",
    "version": 3
   },
   "file_extension": ".py",
   "mimetype": "text/x-python",
   "name": "python",
   "nbconvert_exporter": "python",
   "pygments_lexer": "ipython3",
   "version": "3.8.3"
  }
 },
 "nbformat": 4,
 "nbformat_minor": 4
}
