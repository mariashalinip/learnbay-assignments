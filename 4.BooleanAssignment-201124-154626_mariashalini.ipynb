{
 "cells": [
  {
   "cell_type": "code",
   "execution_count": 23,
   "metadata": {},
   "outputs": [
    {
     "name": "stdout",
     "output_type": "stream",
     "text": [
      "1 <class 'int'> 140717784577824\n"
     ]
    }
   ],
   "source": [
    "# Q. ​Declare a boolean value and store it in a variable. Check the type and print the id of the same. \n",
    "\n",
    "a = 1\n",
    "print(a, type(a), id(a))"
   ]
  },
  {
   "cell_type": "code",
   "execution_count": 22,
   "metadata": {},
   "outputs": [
    {
     "name": "stdout",
     "output_type": "stream",
     "text": [
      "140717784577792\n",
      "140717784577792\n"
     ]
    }
   ],
   "source": [
    "# Take one boolean value between 0 - 256. Assign it to two different variables. Check the id of both the variables. \n",
    "# It should come the same. Check why? \n",
    "\n",
    "a = 0\n",
    "b = 0\n",
    "\n",
    "print(id(a))\n",
    "print(id(b))"
   ]
  },
  {
   "cell_type": "code",
   "execution_count": 16,
   "metadata": {},
   "outputs": [
    {
     "name": "stdout",
     "output_type": "stream",
     "text": [
      "1634799396496\n",
      "1634799396688\n"
     ]
    }
   ],
   "source": [
    "# 3. Take one float value either less than -5 or greater than 256. Assign it to two different variables.\n",
    "# Check the id of both the variables. It should come different.Check why? \n",
    "\n",
    "a = 256.50\n",
    "b = 256.50\n",
    "\n",
    "print(id(a))\n",
    "print(id(b))\n",
    "\n"
   ]
  },
  {
   "cell_type": "code",
   "execution_count": 8,
   "metadata": {},
   "outputs": [
    {
     "name": "stdout",
     "output_type": "stream",
     "text": [
      "90\n",
      "-10\n",
      "2000\n",
      "0.8\n",
      "40\n",
      "0\n",
      "126765060022822940149670320537600000000000000000000000000000000000000000000000000\n"
     ]
    }
   ],
   "source": [
    "#4. Arithmetic Operations on integers Take two different boolean values. Store them in two different variables. \n",
    "\n",
    "# Do below operations on them:-  \n",
    "# Find sum of both numbers   \n",
    "# Find difference between them  \n",
    "# Find the product of both numbers.  \n",
    "# Find value after dividing first num with second number   \n",
    "# Find the remainder after dividing first number with second number \n",
    "# Find the quotient after dividing first number with second number  \n",
    "# Find the result of the first num to the power of the second number. 2\n",
    "\n",
    "x=40\n",
    "y=50\n",
    "print(x + y)\n",
    "print(x - y)\n",
    "print(x * y)\n",
    "print(x / y)\n",
    "print(x % y)\n",
    "print(x // y)\n",
    "print(x ** y)\n"
   ]
  },
  {
   "cell_type": "code",
   "execution_count": 7,
   "metadata": {},
   "outputs": [
    {
     "name": "stdout",
     "output_type": "stream",
     "text": [
      "False\n",
      "True\n",
      "False\n",
      "True\n"
     ]
    }
   ],
   "source": [
    "#5 Comparison Operators on boolean Take two different integer values. Store them in two different variables. \n",
    "# Do below operations on them:-   \n",
    "# Compare se two numbers with below operator:-    \n",
    "#     Greater than, '>'      \n",
    "#     Smaller than, '<'      \n",
    "#     Greater than or equal to, '>='      \n",
    "#     Less than or equal to, '<=' \n",
    "#     Observe their output(return type should be boolean) \n",
    "\n",
    "x=10\n",
    "y=20\n",
    "print(x > y)\n",
    "print(x < y)\n",
    "print(x >= y)\n",
    "print(x <= y)"
   ]
  },
  {
   "cell_type": "code",
   "execution_count": 6,
   "metadata": {},
   "outputs": [
    {
     "name": "stdout",
     "output_type": "stream",
     "text": [
      "False\n",
      "True\n"
     ]
    }
   ],
   "source": [
    "# 6.Equality Operator Take two different boolean values. Store them in two different variables. \n",
    "# Equate them using equality operators (==, !=) \n",
    "# Observe the output(return type should be boolean) \n",
    "\n",
    "\n",
    "x=True\n",
    "y=False\n",
    "print(x == y)\n",
    "print ( x != y)"
   ]
  },
  {
   "cell_type": "code",
   "execution_count": 5,
   "metadata": {},
   "outputs": [
    {
     "name": "stdout",
     "output_type": "stream",
     "text": [
      "True\n",
      "False\n",
      "False\n",
      "False\n",
      "True\n",
      "True\n",
      "True\n",
      "False\n",
      "False\n",
      "True\n"
     ]
    }
   ],
   "source": [
    "# Logical operators Observe the output of below code Cross check the output manually \n",
    "print(True and True) #----------------------------------------->Output is True \n",
    "print(False and True) #----------------------------------------->Output is False \n",
    "print(True and False) #----------------------------------------->Output is False \n",
    "print(False and False) #----------------------------------------->Output is False \n",
    "print(True or True) #----------------------------------------->Output is True \n",
    "print(False or True) #----------------------------------------->Output is True \n",
    "print(True or False) #----------------------------------------->Output is True \n",
    "print(False or False) #----------------------------------------->Output is False \n",
    "print(not True) #----------------------------------------->Output is False \n",
    "print(not False) #----------------------------------------->Output is True "
   ]
  },
  {
   "cell_type": "code",
   "execution_count": 4,
   "metadata": {},
   "outputs": [
    {
     "name": "stdout",
     "output_type": "stream",
     "text": [
      "True\n",
      "True\n",
      "True\n",
      "-2\n",
      "4\n",
      "0\n"
     ]
    }
   ],
   "source": [
    "# Q.​ Bitwise Operators Do below operations on the values provided below:-    \n",
    "# Bitwise and(&) --------------> True, True   -------> Output is True    \n",
    "# Bitwise or(|)  --------------> True, False   -------> Output is True    \n",
    "# Bitwise(^)     --------------> True, False   -------> Output is True    \n",
    "# Bitwise negation(~) ---------> True          -------> Output is -2    \n",
    "# Bitwise left shift  ---------> True,2        -------> Output is 4    \n",
    "# Bitwise right shift ---------> True,2        -------> Output is 0 Cross check the output manually \n",
    " \n",
    "print(True & True)\n",
    "print(True | False)\n",
    "print(True ^ False)\n",
    "print(~True)\n",
    "print(True << 2)\n",
    "print(True >> 2)"
   ]
  },
  {
   "cell_type": "code",
   "execution_count": 2,
   "metadata": {},
   "outputs": [
    {
     "name": "stdout",
     "output_type": "stream",
     "text": [
      "True\n",
      "False\n",
      "True\n"
     ]
    }
   ],
   "source": [
    "# What is the output of expression inside the print statement. \n",
    "# Cross check before running the program.\n",
    "a = True \n",
    "b = True \n",
    "print(a is b)          #True or False?   # \n",
    "print(a is not b)      #True or False? \n",
    "a = False\n",
    "b = False \n",
    "print(a is b)          #True or False? print(a is not b)      #True or False? "
   ]
  },
  {
   "cell_type": "code",
   "execution_count": 1,
   "metadata": {},
   "outputs": [
    {
     "name": "stdout",
     "output_type": "stream",
     "text": [
      "True\n",
      "True\n",
      "True\n",
      "True\n",
      "True\n"
     ]
    }
   ],
   "source": [
    "# Q Membership operation in, not in are two membership operators and it returns boolean value \n",
    "print(True in [10,10.20,10+20j,'Python', True]) \n",
    "print(False in (10,10.20,10+20j,'Python', False))\n",
    "print(True in {1,2,3, True}) \n",
    "print(True in {True:100, False:200, True:300}) \n",
    "print(False in {True:100, False:200, True:300}) "
   ]
  },
  {
   "cell_type": "code",
   "execution_count": null,
   "metadata": {},
   "outputs": [],
   "source": []
  }
 ],
 "metadata": {
  "kernelspec": {
   "display_name": "Python 3",
   "language": "python",
   "name": "python3"
  },
  "language_info": {
   "codemirror_mode": {
    "name": "ipython",
    "version": 3
   },
   "file_extension": ".py",
   "mimetype": "text/x-python",
   "name": "python",
   "nbconvert_exporter": "python",
   "pygments_lexer": "ipython3",
   "version": "3.8.3"
  }
 },
 "nbformat": 4,
 "nbformat_minor": 4
}
